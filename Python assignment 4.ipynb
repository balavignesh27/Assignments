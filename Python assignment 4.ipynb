{
 "cells": [
  {
   "cell_type": "code",
   "execution_count": 1,
   "metadata": {},
   "outputs": [],
   "source": [
    "# 1.1 Write a Python Program(with class concepts) to find the area of the triangle using the below formula.\n",
    "# area = (s*(s-a)*(s-b)*(s-c)) ** 0.5\n",
    "# Function to take the length of the sides of triangle from user should be defined in the parent class \n",
    "# and function to calculate the area should be defined in subclass."
   ]
  },
  {
   "cell_type": "code",
   "execution_count": 2,
   "metadata": {},
   "outputs": [],
   "source": [
    "class Sides_of_traingle(object):\n",
    "    def __init__(self):\n",
    "        self.a = int(input('Enter 1: '))\n",
    "        self.b = int(input('Enter 2: '))\n",
    "        self.c = int(input('Enter 3: '))"
   ]
  },
  {
   "cell_type": "code",
   "execution_count": 3,
   "metadata": {},
   "outputs": [],
   "source": [
    "class Area(Sides_of_traingle):\n",
    "    def __init__(self):\n",
    "        Sides_of_traingle.__init__(self)\n",
    "    def calculate_area(self):\n",
    "        s = (self.a+self.b+self.c)/2\n",
    "        area = (s*(s-self.a)*(s-self.b)*(s-self.c)) ** 0.5\n",
    "        return area"
   ]
  },
  {
   "cell_type": "code",
   "execution_count": 4,
   "metadata": {},
   "outputs": [
    {
     "name": "stdout",
     "output_type": "stream",
     "text": [
      "Enter 1: 12\n",
      "Enter 2: 15\n",
      "Enter 3: 16\n",
      "Area of the triangle:  85.45137506207843\n"
     ]
    }
   ],
   "source": [
    "out = Area()\n",
    "output = out.calculate_area()\n",
    "print('Area of the triangle: ',str(output))"
   ]
  },
  {
   "cell_type": "code",
   "execution_count": 5,
   "metadata": {},
   "outputs": [],
   "source": [
    "# 1.2 Write a function filter_long_words() that takes a list of words and an integer n and returns\n",
    "# the list of words that are longer than n."
   ]
  },
  {
   "cell_type": "code",
   "execution_count": 6,
   "metadata": {},
   "outputs": [
    {
     "data": {
      "text/plain": [
       "['sudhansu', 'bahubali']"
      ]
     },
     "execution_count": 6,
     "metadata": {},
     "output_type": "execute_result"
    }
   ],
   "source": [
    "def filter_long_words(items,num):\n",
    "    filter_words = []\n",
    "    for item in items:\n",
    "        length = len(item)\n",
    "        if length>num:\n",
    "            filter_words.append(item)\n",
    "    if not filter_words:\n",
    "        return 'List is empty'\n",
    "    else:\n",
    "        return filter_words\n",
    "            \n",
    "lst = ['ram','vignesh','sudhansu','krish','kattapa','bahubali','siri']\n",
    "\n",
    "filter_long_words(lst,7)"
   ]
  },
  {
   "cell_type": "code",
   "execution_count": 7,
   "metadata": {},
   "outputs": [],
   "source": [
    "# 2.1 Write a Python program using function concept that maps list of words into a list of integers\n",
    "# representing the lengths of the corresponding words.\n",
    "# Hint: If a list [ ab,cde,erty] is passed on to the python function output should come as [2,3,4]\n",
    "# Here 2,3 and 4 are the lengths of the words in the list."
   ]
  },
  {
   "cell_type": "code",
   "execution_count": 8,
   "metadata": {},
   "outputs": [
    {
     "name": "stdout",
     "output_type": "stream",
     "text": [
      "[3, 7, 8, 5, 7, 8, 4]\n"
     ]
    }
   ],
   "source": [
    "def words(items):\n",
    "    num = [1,2,3,4,5,6,7,8,9,10,11,12,13,14,15]\n",
    "    a = len(items)\n",
    "    if a in num:\n",
    "        return a\n",
    "    else:\n",
    "        return items+' word is too long'\n",
    "    \n",
    "\n",
    "lst = ['ram','vignesh','sudhansu','krish','kattapa','bahubali','siri']\n",
    "print(list((map(words,lst))))"
   ]
  },
  {
   "cell_type": "code",
   "execution_count": 9,
   "metadata": {},
   "outputs": [],
   "source": [
    "# 2.2 Write a Python function which takes a character (i.e. a string of length 1) and returns True if\n",
    "# it is a vowel, False otherwise."
   ]
  },
  {
   "cell_type": "code",
   "execution_count": 10,
   "metadata": {},
   "outputs": [
    {
     "name": "stdout",
     "output_type": "stream",
     "text": [
      "Enter the char: l\n",
      "False\n"
     ]
    }
   ],
   "source": [
    "def vowels(item):\n",
    "    items = ['a','e','i','o','u']\n",
    "    if item in items:\n",
    "        return True\n",
    "    else:\n",
    "        return False      \n",
    "    \n",
    "get = input('Enter the char: ')\n",
    "if len(get)<2:\n",
    "    print(vowels(get))\n",
    "else:\n",
    "    print('Enter the character only.')"
   ]
  }
 ],
 "metadata": {
  "kernelspec": {
   "display_name": "Python 3",
   "language": "python",
   "name": "python3"
  },
  "language_info": {
   "codemirror_mode": {
    "name": "ipython",
    "version": 3
   },
   "file_extension": ".py",
   "mimetype": "text/x-python",
   "name": "python",
   "nbconvert_exporter": "python",
   "pygments_lexer": "ipython3",
   "version": "3.7.6"
  }
 },
 "nbformat": 4,
 "nbformat_minor": 4
}
